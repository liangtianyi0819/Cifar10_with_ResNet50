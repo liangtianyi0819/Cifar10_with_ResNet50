{
  "nbformat": 4,
  "nbformat_minor": 0,
  "metadata": {
    "colab": {
      "name": "CS767Assignment9_Question3&4ipynb",
      "provenance": [],
      "machine_shape": "hm"
    },
    "kernelspec": {
      "name": "python3",
      "display_name": "Python 3"
    },
    "language_info": {
      "name": "python"
    },
    "accelerator": "GPU"
  },
  "cells": [
    {
      "cell_type": "code",
      "execution_count": 2,
      "metadata": {
        "id": "j9tyGmzfuQmC"
      },
      "outputs": [],
      "source": [
        "import os\n",
        "import numpy as np\n",
        "import tensorflow as tf\n",
        "\n",
        "from tensorflow import keras\n",
        "from tensorflow.keras import layers\n",
        "from tensorflow.keras.datasets import cifar10\n",
        "from tensorflow.keras.preprocessing import image\n",
        "from tensorflow.keras.models import Model, load_model"
      ]
    },
    {
      "cell_type": "code",
      "source": [
        "(x_train_full, y_train_full), (x_test, y_test) = cifar10.load_data()\n",
        "x_train, x_valid = x_train_full[:-5000]/255, x_train_full[-5000:]/255\n",
        "y_train, y_valid = y_train_full[:-5000], y_train_full[-5000:]\n",
        "print (\"X_train shape: \" + str(x_train.shape)  + \n",
        "    \"\\nY_train shape: \" + str(y_train.shape) + \n",
        "    \"\\nX_test shape: \" + str(x_test.shape)  + \n",
        "    \"\\nY_test shape: \" + str(y_test.shape)  +\n",
        "    \"\\nX_valid shape: \" + str(x_valid.shape) + \n",
        "    \"\\nY_valid shape: \" + str(y_valid.shape))"
      ],
      "metadata": {
        "colab": {
          "base_uri": "https://localhost:8080/"
        },
        "id": "aECu5TBE2JJR",
        "outputId": "226f134b-f053-4bc9-9261-1bddbbc1a4b2"
      },
      "execution_count": 4,
      "outputs": [
        {
          "output_type": "stream",
          "name": "stdout",
          "text": [
            "X_train shape: (45000, 32, 32, 3)\n",
            "Y_train shape: (45000, 1)\n",
            "X_test shape: (10000, 32, 32, 3)\n",
            "Y_test shape: (10000, 1)\n",
            "X_valid shape: (5000, 32, 32, 3)\n",
            "Y_valid shape: (5000, 1)\n"
          ]
        }
      ]
    },
    {
      "cell_type": "code",
      "source": [
        "def set_seed():\n",
        "  InitSeed = 767\n",
        "  tf.random.set_seed(InitSeed)\n",
        "  np.random.seed(InitSeed)\n",
        "\n",
        "\n",
        "def classifier_(input_):\n",
        "  initializer = tf.keras.initializers.GlorotNormal(seed=767)\n",
        "  output_ = keras.layers.GlobalAveragePooling2D()(input_)\n",
        "  output_ = keras.layers.Flatten()(output_)\n",
        "  output_ = keras.layers.BatchNormalization()(output_)\n",
        "  output_prime = output_\n",
        "\n",
        "  output_ = keras.layers.Dense(2048, kernel_initializer=initializer)(output_)\n",
        "  output_ = keras.layers.BatchNormalization()(output_)\n",
        "  output_ = keras.layers.Activation('relu')(output_)\n",
        "  output_ = keras.layers.Dropout(0.3)(output_)\n",
        "\n",
        "  output_ = keras.layers.Dense(2048, kernel_initializer=initializer)(output_)\n",
        "  output_ = keras.layers.BatchNormalization()(output_)\n",
        "  output_ = keras.layers.Activation('relu')(output_)\n",
        "  output_ = keras.layers.Dropout(0.3)(output_)\n",
        "  \n",
        "  output_ = keras.layers.Dense(1024, kernel_initializer=initializer)(output_)\n",
        "  output_ = keras.layers.BatchNormalization()(output_)\n",
        "  output_ = keras.layers.Activation('relu')(output_)\n",
        "  output_ = keras.layers.Dropout(0.3)(output_)\n",
        "\n",
        "  output_ = keras.layers.Concatenate()([output_, output_prime])\n",
        "\n",
        "  output_ = keras.layers.Dense(512, activation='relu', kernel_initializer=initializer)(output_)\n",
        "  output_ = keras.layers.Dense(10, activation='softmax')((output_))\n",
        "  return output_\n",
        "\n",
        "\n",
        "def model_flow(input_):\n",
        "  output_ = keras.layers.UpSampling2D(size=(7,7))(input_)\n",
        "  output_ = tf.keras.applications.resnet.ResNet50(input_shape=(224, 224, 3),\n",
        "                           include_top=False,\n",
        "                           weights='imagenet')(output_)\n",
        "  \n",
        "  # output_ a fc1000 classification at this point\n",
        "  # Add the self-designed classifier to produce 10-classes result\n",
        "  output_ = classifier_(output_)\n",
        "  return output_\n",
        "\n",
        "\n",
        "def input_output_compile():\n",
        "  # Shape of cifar10\n",
        "  input_ = keras.layers.Input(shape=(32, 32, 3))\n",
        "  output_ = model_flow(input_)\n",
        "  clf = keras.Model(inputs=input_, outputs=output_)\n",
        "  \n",
        "  clf.compile(optimizer='SGD', loss='sparse_categorical_crossentropy',\n",
        "              metrics = ['accuracy'])\n",
        "  return clf"
      ],
      "metadata": {
        "id": "volUFihYLkFi"
      },
      "execution_count": 100,
      "outputs": []
    },
    {
      "cell_type": "code",
      "source": [
        "set_seed()\n",
        "model = input_output_compile()"
      ],
      "metadata": {
        "id": "ThNaYC33I5U0"
      },
      "execution_count": 101,
      "outputs": []
    },
    {
      "cell_type": "code",
      "source": [
        "model.summary()"
      ],
      "metadata": {
        "colab": {
          "base_uri": "https://localhost:8080/"
        },
        "id": "lZ5ZoFEFJP7q",
        "outputId": "f1e914ec-f809-491e-9723-363a31cf9a21"
      },
      "execution_count": 102,
      "outputs": [
        {
          "output_type": "stream",
          "name": "stdout",
          "text": [
            "Model: \"model_24\"\n",
            "__________________________________________________________________________________________________\n",
            " Layer (type)                   Output Shape         Param #     Connected to                     \n",
            "==================================================================================================\n",
            " input_57 (InputLayer)          [(None, 32, 32, 3)]  0           []                               \n",
            "                                                                                                  \n",
            " up_sampling2d_27 (UpSampling2D  (None, 224, 224, 3)  0          ['input_57[0][0]']               \n",
            " )                                                                                                \n",
            "                                                                                                  \n",
            " resnet50 (Functional)          (None, 7, 7, 2048)   23587712    ['up_sampling2d_27[0][0]']       \n",
            "                                                                                                  \n",
            " global_average_pooling2d_27 (G  (None, 2048)        0           ['resnet50[0][0]']               \n",
            " lobalAveragePooling2D)                                                                           \n",
            "                                                                                                  \n",
            " flatten_27 (Flatten)           (None, 2048)         0           ['global_average_pooling2d_27[0][\n",
            "                                                                 0]']                             \n",
            "                                                                                                  \n",
            " batch_normalization_93 (BatchN  (None, 2048)        8192        ['flatten_27[0][0]']             \n",
            " ormalization)                                                                                    \n",
            "                                                                                                  \n",
            " dense_133 (Dense)              (None, 2048)         4196352     ['batch_normalization_93[0][0]'] \n",
            "                                                                                                  \n",
            " batch_normalization_94 (BatchN  (None, 2048)        8192        ['dense_133[0][0]']              \n",
            " ormalization)                                                                                    \n",
            "                                                                                                  \n",
            " activation_69 (Activation)     (None, 2048)         0           ['batch_normalization_94[0][0]'] \n",
            "                                                                                                  \n",
            " dropout_2 (Dropout)            (None, 2048)         0           ['activation_69[0][0]']          \n",
            "                                                                                                  \n",
            " dense_134 (Dense)              (None, 2048)         4196352     ['dropout_2[0][0]']              \n",
            "                                                                                                  \n",
            " batch_normalization_95 (BatchN  (None, 2048)        8192        ['dense_134[0][0]']              \n",
            " ormalization)                                                                                    \n",
            "                                                                                                  \n",
            " activation_70 (Activation)     (None, 2048)         0           ['batch_normalization_95[0][0]'] \n",
            "                                                                                                  \n",
            " dropout_3 (Dropout)            (None, 2048)         0           ['activation_70[0][0]']          \n",
            "                                                                                                  \n",
            " dense_135 (Dense)              (None, 1024)         2098176     ['dropout_3[0][0]']              \n",
            "                                                                                                  \n",
            " batch_normalization_96 (BatchN  (None, 1024)        4096        ['dense_135[0][0]']              \n",
            " ormalization)                                                                                    \n",
            "                                                                                                  \n",
            " activation_71 (Activation)     (None, 1024)         0           ['batch_normalization_96[0][0]'] \n",
            "                                                                                                  \n",
            " dropout_4 (Dropout)            (None, 1024)         0           ['activation_71[0][0]']          \n",
            "                                                                                                  \n",
            " concatenate_13 (Concatenate)   (None, 3072)         0           ['dropout_4[0][0]',              \n",
            "                                                                  'batch_normalization_93[0][0]'] \n",
            "                                                                                                  \n",
            " dense_136 (Dense)              (None, 512)          1573376     ['concatenate_13[0][0]']         \n",
            "                                                                                                  \n",
            " dense_137 (Dense)              (None, 10)           5130        ['dense_136[0][0]']              \n",
            "                                                                                                  \n",
            "==================================================================================================\n",
            "Total params: 35,685,770\n",
            "Trainable params: 35,618,314\n",
            "Non-trainable params: 67,456\n",
            "__________________________________________________________________________________________________\n"
          ]
        }
      ]
    },
    {
      "cell_type": "code",
      "source": [
        "set_seed()\n",
        "hist = model.fit(x_train, y_train, validation_data=(x_valid, y_valid), epochs=15, batch_size=64)"
      ],
      "metadata": {
        "colab": {
          "base_uri": "https://localhost:8080/"
        },
        "id": "IHtZfdyRI5S8",
        "outputId": "88867c24-c2d2-45d0-edc0-2c88042dedd9"
      },
      "execution_count": 103,
      "outputs": [
        {
          "output_type": "stream",
          "name": "stdout",
          "text": [
            "Epoch 1/15\n",
            "704/704 [==============================] - 473s 665ms/step - loss: 0.4648 - accuracy: 0.8394 - val_loss: 2.3170 - val_accuracy: 0.3410\n",
            "Epoch 2/15\n",
            "704/704 [==============================] - 467s 663ms/step - loss: 0.1361 - accuracy: 0.9540 - val_loss: 0.2010 - val_accuracy: 0.9276\n",
            "Epoch 3/15\n",
            "704/704 [==============================] - 466s 663ms/step - loss: 0.0488 - accuracy: 0.9852 - val_loss: 0.1859 - val_accuracy: 0.9432\n",
            "Epoch 4/15\n",
            "704/704 [==============================] - 466s 663ms/step - loss: 0.0194 - accuracy: 0.9949 - val_loss: 0.2054 - val_accuracy: 0.9400\n",
            "Epoch 5/15\n",
            "704/704 [==============================] - 466s 662ms/step - loss: 0.0109 - accuracy: 0.9976 - val_loss: 0.2583 - val_accuracy: 0.9342\n",
            "Epoch 6/15\n",
            "704/704 [==============================] - 466s 662ms/step - loss: 0.0081 - accuracy: 0.9982 - val_loss: 0.9322 - val_accuracy: 0.8482\n",
            "Epoch 7/15\n",
            "704/704 [==============================] - 466s 663ms/step - loss: 0.0107 - accuracy: 0.9974 - val_loss: 0.4597 - val_accuracy: 0.8830\n",
            "Epoch 8/15\n",
            "704/704 [==============================] - 466s 662ms/step - loss: 0.0105 - accuracy: 0.9972 - val_loss: 0.2395 - val_accuracy: 0.9414\n",
            "Epoch 9/15\n",
            "704/704 [==============================] - 467s 664ms/step - loss: 0.0045 - accuracy: 0.9990 - val_loss: 2.4085 - val_accuracy: 0.6348\n",
            "Epoch 10/15\n",
            "704/704 [==============================] - 467s 663ms/step - loss: 0.0081 - accuracy: 0.9979 - val_loss: 0.2217 - val_accuracy: 0.9476\n",
            "Epoch 11/15\n",
            "704/704 [==============================] - 467s 663ms/step - loss: 0.0042 - accuracy: 0.9989 - val_loss: 0.2336 - val_accuracy: 0.9452\n",
            "Epoch 12/15\n",
            "704/704 [==============================] - 467s 663ms/step - loss: 0.0027 - accuracy: 0.9995 - val_loss: 0.2300 - val_accuracy: 0.9472\n",
            "Epoch 13/15\n",
            "704/704 [==============================] - 467s 664ms/step - loss: 0.0018 - accuracy: 0.9998 - val_loss: 0.2136 - val_accuracy: 0.9470\n",
            "Epoch 14/15\n",
            "704/704 [==============================] - 467s 663ms/step - loss: 0.0017 - accuracy: 0.9996 - val_loss: 0.2425 - val_accuracy: 0.9430\n",
            "Epoch 15/15\n",
            "704/704 [==============================] - 467s 663ms/step - loss: 0.0012 - accuracy: 0.9999 - val_loss: 0.2337 - val_accuracy: 0.9446\n"
          ]
        }
      ]
    }
  ]
}